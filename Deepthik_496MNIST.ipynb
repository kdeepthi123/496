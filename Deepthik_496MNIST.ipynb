{
  "nbformat": 4,
  "nbformat_minor": 0,
  "metadata": {
    "colab": {
      "provenance": [],
      "authorship_tag": "ABX9TyMiKm8x5MmEXD8ZQRHt7+/4",
      "include_colab_link": true
    },
    "kernelspec": {
      "name": "python3",
      "display_name": "Python 3"
    },
    "language_info": {
      "name": "python"
    }
  },
  "cells": [
    {
      "cell_type": "markdown",
      "metadata": {
        "id": "view-in-github",
        "colab_type": "text"
      },
      "source": [
        "<a href=\"https://colab.research.google.com/github/kdeepthi123/496/blob/main/Deepthik_496MNIST.ipynb\" target=\"_parent\"><img src=\"https://colab.research.google.com/assets/colab-badge.svg\" alt=\"Open In Colab\"/></a>"
      ]
    },
    {
      "cell_type": "code",
      "source": [
        "from __future__ import absolute_import, division, print_function, unicode_literals\n",
        "import tensorflow as tf\n",
        "from tensorflow import keras\n",
        "import numpy as np\n",
        "import matplotlib.pyplot as plt"
      ],
      "metadata": {
        "id": "DaUMVjWjMTPn"
      },
      "execution_count": null,
      "outputs": []
    },
    {
      "cell_type": "code",
      "source": [
        "print(tf.__version__)"
      ],
      "metadata": {
        "id": "xSeqlu1sMt0o"
      },
      "execution_count": null,
      "outputs": []
    },
    {
      "cell_type": "code",
      "source": [
        "fashion_mnist = keras.datasets.fashion_mnist\n",
        "(train_images,train_labels),(test_images,test_labels)=fashion_mnist.load_data()"
      ],
      "metadata": {
        "id": "TORJ4-67Mz-N"
      },
      "execution_count": null,
      "outputs": []
    },
    {
      "cell_type": "code",
      "source": [
        "class_names=['T-shirt/top','Trouser','Pullover','Dress','Coat','Sandal','Shirt','Sneaker','Bag','Ankle boot']\n",
        "print('Size to train dataset:',train_images.shape)\n",
        "print('Size to train labels:',len(train_labels))\n",
        "print('Train Labels:',train_labels)\n",
        "print('Size to test dataset:',test_images.shape)\n",
        "print('Size to test dataset:',test_images.shape)"
      ],
      "metadata": {
        "id": "Oudej32uNT36"
      },
      "execution_count": null,
      "outputs": []
    },
    {
      "cell_type": "code",
      "source": [
        "plt.figure()\n",
        "plt.imshow(train_images[999])\n",
        "plt.colorbar()\n",
        "plt.grid(False)\n",
        "plt.show()\n",
        "print(class_names[train_labels[999]])"
      ],
      "metadata": {
        "id": "fPDD-kIjOvLd"
      },
      "execution_count": null,
      "outputs": []
    },
    {
      "cell_type": "code",
      "source": [
        "train_images=train_images/255.0\n",
        "test_images=test_images/255.0\n",
        "\n",
        "plt.figure()\n",
        "plt.imshow(train_images[4],cmap=plt.cm.binary)\n",
        "plt.colorbar()\n",
        "plt.grid(False)\n",
        "plt.show()"
      ],
      "metadata": {
        "id": "8fOZsIBiPNxX"
      },
      "execution_count": null,
      "outputs": []
    },
    {
      "cell_type": "code",
      "execution_count": null,
      "metadata": {
        "id": "sS1ZZ-plL7gJ"
      },
      "outputs": [],
      "source": [
        "from keras.layers.rnn.base_conv_lstm import activations\n",
        "from keras.layers import Dense,Flatten\n",
        "#layer1-make it 1D-Flatten is used to convert multiD input to a 1D\n",
        "#Dense- fully connected layer.where each neuron in the current layer is connected to every neuron in the previous layer\n",
        "#layer2-make - values as 0 and + values as it is\n",
        "#layer3-Softmax - gives a vector of probable values between 0-1 all together will be 1\n",
        "#eg:0.41,0.01etc..... if 0.41 is high it teams 0-tshirt\n",
        "myModel=keras.Sequential([\n",
        "    keras.layers.Flatten(input_shape=(28,28)),\n",
        "    keras.layers.Dense(128,activation='relu'),\n",
        "    keras.layers.Dense(10,activation='softmax')\n",
        "])"
      ]
    },
    {
      "cell_type": "code",
      "source": [
        "myModel.compile(optimizer='adam',loss='sparse_categorical_crossentropy',metrics=['accuracy'])\n",
        "myModel.fit(train_images,train_labels,epochs=10)\n",
        "test_loss,test_acc=myModel.evaluate(test_images,test_labels,verbose=2)\n",
        "print(\"test acc:\",test_acc)\n",
        "print(\"test loss\",test_loss)"
      ],
      "metadata": {
        "id": "cWEXaUE9RnXk"
      },
      "execution_count": null,
      "outputs": []
    },
    {
      "cell_type": "code",
      "source": [
        "predictions=myModel.predict(test_images)\n",
        "np.argmax(predictions[9027])\n",
        "print(predictions[9027])\n",
        "print(np.argmax(predictions[9027]))\n"
      ],
      "metadata": {
        "id": "oNVatLXTSvjV"
      },
      "execution_count": null,
      "outputs": []
    },
    {
      "cell_type": "code",
      "source": [
        "plt.figure()\n",
        "plt.imshow(test_images[9027])\n",
        "plt.colorbar()\n",
        "plt.grid(False)\n",
        "plt.show()\n",
        "print(class_names[test_labels[9027]])"
      ],
      "metadata": {
        "id": "d4Z3k1Rra7lP"
      },
      "execution_count": null,
      "outputs": []
    }
  ]
}